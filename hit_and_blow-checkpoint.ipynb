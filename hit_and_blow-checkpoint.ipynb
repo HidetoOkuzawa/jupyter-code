{
 "cells": [
  {
   "cell_type": "code",
   "execution_count": 3,
   "id": "4b0ed286-f4a4-4b52-b13b-16259476ea62",
   "metadata": {
    "scrolled": true
   },
   "outputs": [
    {
     "name": "stdout",
     "output_type": "stream",
     "text": [
      "数当てゲームスタート！なぁに、殺しゃしませんよ...\n",
      "私が1~9までの数値を使ってランダムな数を作ります...それが私の専属任務ですから\n",
      "アナタは1桁から9桁の桁数を指定してくださいねェ...\n"
     ]
    },
    {
     "name": "stdin",
     "output_type": "stream",
     "text": [
      "何桁の数字でゲームをしますかねェ...(1~9): 2\n",
      "2桁の数字を入力してくださいねェ... 12\n"
     ]
    },
    {
     "name": "stdout",
     "output_type": "stream",
     "text": [
      "[1, 2]\n",
      "1回目の回答ですねェ...!\n",
      "ヒット=0,ブロー=0\n"
     ]
    },
    {
     "name": "stdin",
     "output_type": "stream",
     "text": [
      "2桁の数字を入力してくださいねェ... 34\n"
     ]
    },
    {
     "name": "stdout",
     "output_type": "stream",
     "text": [
      "[3, 4]\n",
      "2回目の回答ですねェ...!\n",
      "ヒット=0,ブロー=0\n"
     ]
    },
    {
     "name": "stdin",
     "output_type": "stream",
     "text": [
      "2桁の数字を入力してくださいねェ... 56\n"
     ]
    },
    {
     "name": "stdout",
     "output_type": "stream",
     "text": [
      "[5, 6]\n",
      "3回目の回答ですねェ...!\n",
      "ヒット=0,ブロー=0\n"
     ]
    },
    {
     "name": "stdin",
     "output_type": "stream",
     "text": [
      "2桁の数字を入力してくださいねェ... 78\n"
     ]
    },
    {
     "name": "stdout",
     "output_type": "stream",
     "text": [
      "[7, 8]\n",
      "4回目の回答ですねェ...!\n",
      "正解！ゲームクリアです。この感覚、とても口で言えるもんじゃありませんよねェ...正解=[7, 8]\n",
      "4回で正解とは...やはり噂通りの名探偵ヤローでしたね\n"
     ]
    }
   ],
   "source": [
    "import random\n",
    "\n",
    "def check_hit_and_blow(secret,guess):\n",
    "    \"\"\"ユーザーの推測値と正解を比較して、ヒットとブローの数を返す\"\"\"\n",
    "\n",
    "    #ヒットとブロー変数の初期化\n",
    "    hit = 0\n",
    "    blow = 0\n",
    "\n",
    "    #ヒットのカウント(ヒット=数字と位置があっている)\n",
    "    for i in range(len(secret)):\n",
    "        if secret[i] == guess[i]:\n",
    "            hit +=1\n",
    "\n",
    "    #重複数のカウント\n",
    "    hit_and_blow = 0\n",
    "    for num in secret:\n",
    "        if num in guess:\n",
    "            hit_and_blow += 1\n",
    "\n",
    "    #ブロー=重複数からヒット数を引く\n",
    "    blow = hit_and_blow - hit\n",
    "    \n",
    "    return hit,blow\n",
    "\n",
    "#ゲーム開始の説明\n",
    "print('数当てゲームスタート！なぁに、殺しゃしませんよ...')\n",
    "print('私が1~9までの数値を使ってランダムな数を作ります...それが私の専属任務ですから')\n",
    "print('アナタは1桁から9桁の桁数を指定してくださいねェ...')\n",
    "\n",
    "#桁数入力\n",
    "while True:\n",
    "    n=int(input('何桁の数字でゲームをしますかねェ...(1~9):'))\n",
    "\n",
    "    #1~9の入力がされたらループを抜ける\n",
    "    if 1 <= n <= 9:\n",
    "        break\n",
    "    print('1~9までの数字でお願いしますねェ...')\n",
    "\n",
    "#正解の数\n",
    "numbers = [1,2,3,4,5,6,7,8,9]\n",
    "secret_numbers = random.sample(numbers,n)\n",
    "\n",
    "#試行回数を初期化\n",
    "trial_count = 0\n",
    "\n",
    "#ユーザーから推測した数字を受け取って正解するまでループを回す\n",
    "while True:\n",
    "    guess_number = input(f'{n}桁の数字を入力してくださいねェ...')\n",
    "\n",
    "    #入力を整数のリストに変換\n",
    "    guess_list = []\n",
    "    for char in guess_number:\n",
    "        guess_list.append(int(char))\n",
    "    print(guess_list)\n",
    "\n",
    "    #試行回数をカウントアップ\n",
    "    trial_count += 1\n",
    "    print(f'{trial_count}回目の回答ですねェ...!')\n",
    "\n",
    "    #ユーザーの推測値を正解と比較し、ヒット数とブロー数を返す\n",
    "    hit,blow = check_hit_and_blow(secret_numbers,guess_list)\n",
    "\n",
    "    #結果表示\n",
    "    if hit == n:\n",
    "        print(f'正解！ゲームクリアです。この感覚、とても口で言えるもんじゃありませんよねェ...正解={secret_numbers}')\n",
    "        print(f'{trial_count}回で正解とは...やはり噂通りの名探偵ヤローでしたね')\n",
    "        break\n",
    "    else:\n",
    "        print(f'ヒット={hit},ブロー={blow}')"
   ]
  },
  {
   "cell_type": "code",
   "execution_count": null,
   "id": "8c7db246-b30e-4d51-853d-758ce790e605",
   "metadata": {},
   "outputs": [],
   "source": []
  }
 ],
 "metadata": {
  "kernelspec": {
   "display_name": "Python 3 (ipykernel)",
   "language": "python",
   "name": "python3"
  },
  "language_info": {
   "codemirror_mode": {
    "name": "ipython",
    "version": 3
   },
   "file_extension": ".py",
   "mimetype": "text/x-python",
   "name": "python",
   "nbconvert_exporter": "python",
   "pygments_lexer": "ipython3",
   "version": "3.13.3"
  }
 },
 "nbformat": 4,
 "nbformat_minor": 5
}
