{
 "cells": [
  {
   "cell_type": "code",
   "execution_count": 3,
   "id": "6ccee92f-199d-44a7-843c-9f2889165a17",
   "metadata": {},
   "outputs": [
    {
     "name": "stdout",
     "output_type": "stream",
     "text": [
      "1から100までの間で好きな数字を1つ思い浮かべてください。お体に障りますよ...\n",
      "アナタの考えている数字を7回以内に当ててみましょう。いきますよォ！！\n",
      "1 100\n",
      "アナタの数値は 50 より大きいですか？(yes/no)\n"
     ]
    },
    {
     "name": "stdin",
     "output_type": "stream",
     "text": [
      " no\n"
     ]
    },
    {
     "name": "stdout",
     "output_type": "stream",
     "text": [
      "アナタの数値は 25 より大きいですか？(yes/no)\n"
     ]
    },
    {
     "name": "stdin",
     "output_type": "stream",
     "text": [
      " no\n"
     ]
    },
    {
     "name": "stdout",
     "output_type": "stream",
     "text": [
      "アナタの数値は 13 より大きいですか？(yes/no)\n"
     ]
    },
    {
     "name": "stdin",
     "output_type": "stream",
     "text": [
      " no\n"
     ]
    },
    {
     "name": "stdout",
     "output_type": "stream",
     "text": [
      "アナタの数値は 7 より大きいですか？(yes/no)\n"
     ]
    },
    {
     "name": "stdin",
     "output_type": "stream",
     "text": [
      " no\n"
     ]
    },
    {
     "name": "stdout",
     "output_type": "stream",
     "text": [
      "アナタの数値は 4 より大きいですか？(yes/no)\n"
     ]
    },
    {
     "name": "stdin",
     "output_type": "stream",
     "text": [
      " no\n"
     ]
    },
    {
     "name": "stdout",
     "output_type": "stream",
     "text": [
      "アナタの数値は 2 より大きいですか？(yes/no)\n"
     ]
    },
    {
     "name": "stdin",
     "output_type": "stream",
     "text": [
      " no\n"
     ]
    },
    {
     "name": "stdout",
     "output_type": "stream",
     "text": [
      "アナタの数値は 1 より大きいですか？(yes/no)\n"
     ]
    },
    {
     "name": "stdin",
     "output_type": "stream",
     "text": [
      " yes\n"
     ]
    },
    {
     "name": "stdout",
     "output_type": "stream",
     "text": [
      "アナタの考えている数字は 2 ですねェ...なぁに、殺しゃしませんよ...\n"
     ]
    }
   ],
   "source": [
    "print('1から100までの間で好きな数字を1つ思い浮かべてください。お体に障りますよ...')\n",
    "print('アナタの考えている数字を7回以内に当ててみましょう。いきますよォ！！')\n",
    "\n",
    "# low:最小の数値、high:最大の数値\n",
    "low=1\n",
    "high=100\n",
    "print(low,high)\n",
    "\n",
    "for i in range(7):\n",
    "    #lowとhighが同じならループを抜ける\n",
    "    if low == high:\n",
    "        break\n",
    "        \n",
    "    #コンピュータの推測値を確認\n",
    "    guess=(low+high)//2\n",
    "    print('アナタの数値は',guess,'より大きいですか？(yes/no)')\n",
    "    answer=input()\n",
    "\n",
    "    #ユーザーの答えにより分岐する\n",
    "    if answer == \"yes\":\n",
    "        low = guess+1\n",
    "    else:\n",
    "        high = guess\n",
    "\n",
    "print('アナタの考えている数字は',low,'ですねェ...なぁに、殺しゃしませんよ...')"
   ]
  },
  {
   "cell_type": "code",
   "execution_count": null,
   "id": "f491fc2e-2909-414f-a33f-61ad8f68e9a5",
   "metadata": {},
   "outputs": [],
   "source": []
  }
 ],
 "metadata": {
  "kernelspec": {
   "display_name": "Python 3 (ipykernel)",
   "language": "python",
   "name": "python3"
  },
  "language_info": {
   "codemirror_mode": {
    "name": "ipython",
    "version": 3
   },
   "file_extension": ".py",
   "mimetype": "text/x-python",
   "name": "python",
   "nbconvert_exporter": "python",
   "pygments_lexer": "ipython3",
   "version": "3.13.3"
  }
 },
 "nbformat": 4,
 "nbformat_minor": 5
}
